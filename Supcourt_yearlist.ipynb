{
 "cells": [
  {
   "cell_type": "code",
   "execution_count": 1,
   "metadata": {
    "collapsed": true
   },
   "outputs": [],
   "source": [
    "from bs4 import BeautifulSoup\n",
    "import requests\n",
    "import re\n",
    "\n",
    "import pandas as pd\n",
    "import numpy as np"
   ]
  },
  {
   "cell_type": "markdown",
   "metadata": {},
   "source": [
    "## Creating a list of Supreme Court Opinions and their URLs\n",
    "I found that caselaw has a repository of Supreme Court ruling opinions spanning back over 100 years. This notebook contains the code I wrote to compile the list of these URLs and titles to use to grab the opinions.\n",
    "\n",
    "If you want the data I used for this project, you can start by running these cells. "
   ]
  },
  {
   "cell_type": "code",
   "execution_count": 2,
   "metadata": {
    "collapsed": true
   },
   "outputs": [],
   "source": [
    "root_url = \"http://caselaw.findlaw.com/court/us-supreme-court/years/\""
   ]
  },
  {
   "cell_type": "code",
   "execution_count": 24,
   "metadata": {
    "collapsed": false
   },
   "outputs": [],
   "source": [
    "years = [year for year in range(1900, 2017)]\n",
    "soupurls = []\n",
    "souptitles = []\n",
    "yearlist = []\n",
    "for year in years:\n",
    "    search = root_url + str(year)\n",
    "    response = requests.get(search)\n",
    "    page = response.text\n",
    "    soup = BeautifulSoup(page, \"lxml\")\n",
    "    \n",
    "    souplist = soup.findAll(\"a\")\n",
    "    for i in souplist:\n",
    "        if re.search(\"us-supreme-court\", str(i)) and not re.search(\"years\", str(i)) and not re.search(\"/court/\", str(i)): \n",
    "            yearlist.append(year)\n",
    "            soupurls.append(i[\"href\"])\n",
    "            souptitles.append(i[\"title\"])\n"
   ]
  },
  {
   "cell_type": "code",
   "execution_count": 25,
   "metadata": {
    "collapsed": true
   },
   "outputs": [],
   "source": [
    "supcourt = pd.DataFrame(souptitles,soupurls).reset_index()\n",
    "supcourt.columns = [[\"caseurl\", \"casetitle\"]]\n",
    "\n",
    "def cleanerup(text):\n",
    "    text = text.replace(\"<EM>\", \"\")\n",
    "    text = text.replace(\"<SPAN STYLE=\", \"\")\n",
    "    text = text.replace(\"</EM>\", \" \")\n",
    "    return text\n",
    "supcourt[\"casetitle\"] = supcourt.casetitle.apply(cleanerup)\n",
    "supcourt[\"years\"] = pd.Series(yearlist)"
   ]
  },
  {
   "cell_type": "code",
   "execution_count": 27,
   "metadata": {
    "collapsed": true
   },
   "outputs": [],
   "source": [
    "supcourt.to_pickle(\"supcourt_yearlist.pickle\")"
   ]
  }
 ],
 "metadata": {
  "kernelspec": {
   "display_name": "Python 3",
   "language": "python",
   "name": "python3"
  },
  "language_info": {
   "codemirror_mode": {
    "name": "ipython",
    "version": 3
   },
   "file_extension": ".py",
   "mimetype": "text/x-python",
   "name": "python",
   "nbconvert_exporter": "python",
   "pygments_lexer": "ipython3",
   "version": "3.5.1"
  }
 },
 "nbformat": 4,
 "nbformat_minor": 0
}
